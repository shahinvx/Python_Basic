{
 "cells": [
  {
   "cell_type": "markdown",
   "metadata": {},
   "source": [
    "# Sets\n",
    "Sets doesn't allow duplicate element.<br>\n",
    "Set automatically make ascending order of element and remove duplicate values.<br>"
   ]
  },
  {
   "cell_type": "markdown",
   "metadata": {},
   "source": [
    "# Concatenation"
   ]
  },
  {
   "cell_type": "code",
   "execution_count": 3,
   "metadata": {},
   "outputs": [
    {
     "name": "stdout",
     "output_type": "stream",
     "text": [
      "{1, 3, 5, 7, 9}\n",
      "{'c', 'a', 'e', 'b', 'g'}\n"
     ]
    }
   ],
   "source": [
    "my_set = {7,5,3,1,9,7}\n",
    "my_set_char = {'g','b','c','a','e'}\n",
    "print(my_set)\n",
    "print(my_set_char)"
   ]
  },
  {
   "cell_type": "markdown",
   "metadata": {},
   "source": [
    "# Slicing"
   ]
  },
  {
   "cell_type": "code",
   "execution_count": null,
   "metadata": {},
   "outputs": [],
   "source": [
    "print(my_set[1]) # it gives error"
   ]
  },
  {
   "cell_type": "markdown",
   "metadata": {},
   "source": [
    "# Concatenation"
   ]
  },
  {
   "cell_type": "code",
   "execution_count": 9,
   "metadata": {},
   "outputs": [
    {
     "name": "stdout",
     "output_type": "stream",
     "text": [
      "{1, 3, 5, 7, 9, 10}\n",
      "{'c', 'a', 'x', 'e', 'b', 'g'}\n"
     ]
    }
   ],
   "source": [
    "my_set.add(10)\n",
    "print(my_set)\n",
    "my_set_char.add('x')\n",
    "print(my_set_char)"
   ]
  },
  {
   "cell_type": "markdown",
   "metadata": {},
   "source": [
    "# Union , Intersection , Difference\n",
    "Union -> (A | B) All the value(common/un-common) of two set (avoiding duplication).<br>\n",
    "Intersection -> (A & B) All the common values of sets.<br>\n",
    "Difference -> (A - B) that means which value having a but not in b.<br>"
   ]
  },
  {
   "cell_type": "code",
   "execution_count": 10,
   "metadata": {},
   "outputs": [
    {
     "name": "stdout",
     "output_type": "stream",
     "text": [
      "union  {2, 5, 6, 7, 9, 11, 'y', 19, 'a'}\n",
      "intersection  {2, 5, 7}\n",
      "intersection  3\n",
      "difference  {'y', 'a', 11}\n",
      "set1  {2, 5, 6, 7, 9, 19}\n",
      "set2  {2, 5, 7, 11, 'y', 'a'}\n"
     ]
    }
   ],
   "source": [
    "my_set1 = {5,6,2,7,9,2,19}\n",
    "my_set2 = {'y',5,2,7,'a',11}\n",
    "\n",
    "print('union ',my_set2.union(my_set1))\n",
    "print('intersection ',my_set2.intersection(my_set1))\n",
    "print('intersection ',len(my_set2.intersection(my_set1)))\n",
    "print('difference ',my_set2.difference(my_set1))\n",
    "print(\"set1 \",my_set1)\n",
    "print('set2 ',my_set2)"
   ]
  },
  {
   "cell_type": "markdown",
   "metadata": {},
   "source": [
    "# Built In Function of Sets"
   ]
  },
  {
   "cell_type": "code",
   "execution_count": 8,
   "metadata": {},
   "outputs": [
    {
     "name": "stdout",
     "output_type": "stream",
     "text": [
      "{20}\n"
     ]
    }
   ],
   "source": [
    "my_set2 = {'y',5,2,7,'a',11}\n",
    "my_set3 = {0}\n",
    "my_set3.add(20)\n",
    "my_set3.remove(0)\n",
    "print(my_set3)"
   ]
  },
  {
   "cell_type": "code",
   "execution_count": 1,
   "metadata": {},
   "outputs": [
    {
     "name": "stdout",
     "output_type": "stream",
     "text": [
      "{2, 3, 5, 7, 9}\n",
      "[2, 3, 5, 7, 9]\n"
     ]
    }
   ],
   "source": [
    "my_list = [2,3,7,2,5,7,9]\n",
    "\n",
    "my_set = set(list(my_list))\n",
    "\n",
    "print(my_set)\n",
    "\n",
    "my_list = list(set(my_set))\n",
    "\n",
    "print(my_list)"
   ]
  }
 ],
 "metadata": {
  "kernelspec": {
   "display_name": "Python 3",
   "language": "python",
   "name": "python3"
  },
  "language_info": {
   "codemirror_mode": {
    "name": "ipython",
    "version": 3
   },
   "file_extension": ".py",
   "mimetype": "text/x-python",
   "name": "python",
   "nbconvert_exporter": "python",
   "pygments_lexer": "ipython3",
   "version": "3.6.5"
  }
 },
 "nbformat": 4,
 "nbformat_minor": 2
}

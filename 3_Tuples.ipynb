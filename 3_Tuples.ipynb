{
 "cells": [
  {
   "cell_type": "markdown",
   "metadata": {},
   "source": [
    "# Tuple\n",
    "Tuple is use for string. <br>\n",
    "Tuple is immutable, means string in the tuple never be changed<br>\n",
    "\n",
    "From front index start with         0,  1,  2,  3,  4<br>\n",
    "From back  index start with        -1, -2, -3, -4, -5<br>\n",
    "array  counting = [count from zero : from 1 (if positive number) for negetive reverse counting]<br>\n",
    "my_tup = [0:-1] means it access 0 to second last number"
   ]
  },
  {
   "cell_type": "markdown",
   "metadata": {},
   "source": [
    "# Concatenation"
   ]
  },
  {
   "cell_type": "code",
   "execution_count": 5,
   "metadata": {},
   "outputs": [
    {
     "name": "stdout",
     "output_type": "stream",
     "text": [
      "('swarna', 'shahin', 'tanvir', 'pial', 'razin', 'jahid')\n",
      "('swarna', 'shahin', 'tanvir', 'pial', 'razin', 'jahid', 'any', 'second')\n"
     ]
    }
   ],
   "source": [
    "my_tup = ('swarna','shahin','tanvir','pial','razin','jahid')\n",
    "print(my_tup)\n",
    "print(my_tup+('any','second'))"
   ]
  },
  {
   "cell_type": "markdown",
   "metadata": {},
   "source": [
    "# Repetition\n",
    "string repet over time"
   ]
  },
  {
   "cell_type": "code",
   "execution_count": 25,
   "metadata": {},
   "outputs": [
    {
     "name": "stdout",
     "output_type": "stream",
     "text": [
      "('swarna', 'shahin', 'tanvir', 'pial', 'swarna', 'shahin', 'tanvir', 'pial', 'swarna', 'shahin', 'tanvir', 'pial')\n"
     ]
    }
   ],
   "source": [
    "print(my_tup*3)"
   ]
  },
  {
   "cell_type": "markdown",
   "metadata": {},
   "source": [
    "# Slicing\n",
    "From front index start with         0,  1,  2,  3,  4<br>\n",
    "From back  index start with        -1, -2, -3, -4, -5"
   ]
  },
  {
   "cell_type": "code",
   "execution_count": 6,
   "metadata": {},
   "outputs": [
    {
     "name": "stdout",
     "output_type": "stream",
     "text": [
      "('swarna', 'shahin', 'tanvir', 'pial', 'razin', 'jahid')\n",
      "('swarna', 'shahin', 'tanvir', 'pial', 'razin')\n",
      "('tanvir', 'pial')\n",
      "shahin\n",
      "('swarna', 'shahin')\n",
      "shahin\n"
     ]
    }
   ],
   "source": [
    "print(my_tup)\n",
    "print(my_tup[0:-1])\n",
    "print(my_tup[2:4])\n",
    "print(my_tup[-5])\n",
    "print(my_tup[0:-4])\n",
    "print(my_tup[1])"
   ]
  },
  {
   "cell_type": "markdown",
   "metadata": {},
   "source": [
    "# Built in Function\n",
    "Only two built in function for tuple"
   ]
  },
  {
   "cell_type": "code",
   "execution_count": 12,
   "metadata": {},
   "outputs": [
    {
     "name": "stdout",
     "output_type": "stream",
     "text": [
      "2\n",
      "5\n"
     ]
    }
   ],
   "source": [
    "my_tup2 = ('shahin','shahin')\n",
    "print(my_tup2.count('shahin'))\n",
    "print(my_tup.index('jahid'))"
   ]
  },
  {
   "cell_type": "markdown",
   "metadata": {},
   "source": [
    "# Try mine"
   ]
  },
  {
   "cell_type": "code",
   "execution_count": 3,
   "metadata": {},
   "outputs": [
    {
     "name": "stdout",
     "output_type": "stream",
     "text": [
      "1\n",
      "2\n"
     ]
    }
   ],
   "source": [
    "try_tup = (\"shahin\",\"afhg\",'swarna')\n",
    "print(try_tup.count('shahin'))\n",
    "print(try_tup.index('swarna'))"
   ]
  }
 ],
 "metadata": {
  "kernelspec": {
   "display_name": "Python 3",
   "language": "python",
   "name": "python3"
  },
  "language_info": {
   "codemirror_mode": {
    "name": "ipython",
    "version": 3
   },
   "file_extension": ".py",
   "mimetype": "text/x-python",
   "name": "python",
   "nbconvert_exporter": "python",
   "pygments_lexer": "ipython3",
   "version": "3.6.5"
  }
 },
 "nbformat": 4,
 "nbformat_minor": 2
}

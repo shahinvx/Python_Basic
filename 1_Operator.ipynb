{
 "cells": [
  {
   "cell_type": "markdown",
   "metadata": {},
   "source": [
    "# Python\n",
    "() -> Tuples<br>\n",
    "{} -> Dictionaries<br>\n",
    "[] -> Lists<br>\n",
    "In python array[5] or as like any type of array operation<br>\n",
    "From front index start with 0,1,2,3,4<br>\n",
    "From back index start with -1,-2,-3,-4,-5"
   ]
  },
  {
   "cell_type": "markdown",
   "metadata": {},
   "source": [
    "# Arithmetic Operator"
   ]
  },
  {
   "cell_type": "code",
   "execution_count": 5,
   "metadata": {},
   "outputs": [
    {
     "name": "stdout",
     "output_type": "stream",
     "text": [
      "Num1 + NUm2 =  30\n",
      "Num1 - NUm2 =  -10\n",
      "Num1 * NUm2 =  200\n",
      "Num1 / NUm2 =  0.5\n",
      "5^3 =  125\n",
      "20 % 3 =  2\n",
      "22//7 =  3\n",
      "3.8//2 =  1.0\n"
     ]
    }
   ],
   "source": [
    "import numpy as np\n",
    "num1 = 10\n",
    "num2 = 20\n",
    "print(\"Num1 + NUm2 = \", num1 + num2)\n",
    "print(\"Num1 - NUm2 = \", num1 - num2)\n",
    "print(\"Num1 * NUm2 = \", num1 * num2)\n",
    "print(\"Num1 / NUm2 = \", num1 / num2)\n",
    "print(\"5^3 = \", 5**3)\n",
    "print(\"20 % 3 = \", 20%3) # vag shes\n",
    "print(\"22//7 = \", 22//7)\n",
    "print(\"3.8//2 = \", 3.8//2) # vagfol"
   ]
  },
  {
   "cell_type": "markdown",
   "metadata": {},
   "source": [
    "# Assignment Operator"
   ]
  },
  {
   "cell_type": "code",
   "execution_count": 8,
   "metadata": {},
   "outputs": [
    {
     "name": "stdout",
     "output_type": "stream",
     "text": [
      "30\n",
      "50\n"
     ]
    }
   ],
   "source": [
    "num3 = num1 + num2\n",
    "print(num3)\n",
    "num3 += num2 # num3 = num3 + num2 it can be **=, %=, //=, /=\n",
    "print(num3)"
   ]
  },
  {
   "cell_type": "markdown",
   "metadata": {},
   "source": [
    "# Comperison Operator"
   ]
  },
  {
   "cell_type": "code",
   "execution_count": 13,
   "metadata": {},
   "outputs": [
    {
     "name": "stdout",
     "output_type": "stream",
     "text": [
      "num3 & num2 50 20\n",
      "is num3 > num2 True\n",
      "is num3 == num2 False\n",
      "is num3 != num2 True\n"
     ]
    }
   ],
   "source": [
    "print(\"num3 & num2\",num3, num2)\n",
    "print(\"is num3 > num2\",num3 > num2)\n",
    "print(\"is num3 == num2\",num3 == num2)\n",
    "print(\"is num3 != num2\",num3 != num2)"
   ]
  },
  {
   "cell_type": "markdown",
   "metadata": {},
   "source": [
    "# Logical Operator"
   ]
  },
  {
   "cell_type": "code",
   "execution_count": 16,
   "metadata": {},
   "outputs": [
    {
     "name": "stdout",
     "output_type": "stream",
     "text": [
      "X and Y False\n",
      "X or Y True\n",
      "not of Y True\n"
     ]
    }
   ],
   "source": [
    "x = True  # 1\n",
    "y = False # 0\n",
    "\n",
    "print(\"X and Y\", x and y)\n",
    "print(\"X or Y\", x or y)\n",
    "print(\"not of Y\", not y)"
   ]
  },
  {
   "cell_type": "markdown",
   "metadata": {},
   "source": [
    "# Bitwise Operator"
   ]
  },
  {
   "cell_type": "code",
   "execution_count": 23,
   "metadata": {},
   "outputs": [
    {
     "name": "stdout",
     "output_type": "stream",
     "text": [
      "num4 or num5 =  6\n",
      "num4 & num5 =  2\n",
      "num4 x-or num5 =  4\n",
      "num4 and num5 2\n",
      "num4 >> 3 time 0\n",
      "num5 << 2 time 8\n"
     ]
    }
   ],
   "source": [
    "num4 = 6 # 110\n",
    "num5 = 2 # 010\n",
    "print(\"num4 or num5 = \", num4 | num5)\n",
    "print(\"num4 & num5 = \", num4 & num5)\n",
    "print(\"num4 x-or num5 = \", num4 ^ num5)\n",
    "print(\"num4 and num5\", num4 and num5)            # or , and\n",
    "print(\"num4 >> 3 time\", num4 >> 3)\n",
    "print(\"num5 << 2 time\", num5 << 2)"
   ]
  },
  {
   "cell_type": "markdown",
   "metadata": {},
   "source": [
    "# Identity Operator"
   ]
  },
  {
   "cell_type": "code",
   "execution_count": null,
   "metadata": {},
   "outputs": [],
   "source": []
  },
  {
   "cell_type": "markdown",
   "metadata": {},
   "source": [
    "# Membership Operator"
   ]
  }
 ],
 "metadata": {
  "kernelspec": {
   "display_name": "Python 3",
   "language": "python",
   "name": "python3"
  },
  "language_info": {
   "codemirror_mode": {
    "name": "ipython",
    "version": 3
   },
   "file_extension": ".py",
   "mimetype": "text/x-python",
   "name": "python",
   "nbconvert_exporter": "python",
   "pygments_lexer": "ipython3",
   "version": "3.6.5"
  }
 },
 "nbformat": 4,
 "nbformat_minor": 2
}

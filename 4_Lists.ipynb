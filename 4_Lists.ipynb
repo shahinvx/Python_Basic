{
 "cells": [
  {
   "cell_type": "markdown",
   "metadata": {},
   "source": [
    "# List\n",
    "List can be contain number, floating number, string, literals<br>\n",
    "List can be modified<br>\n",
    "List are initialize with [ ] as my_list = ['as',2.7,\"asf\",5]<br>\n",
    "array  counting = [count from zero : from 1 (if positive number) for negetive reverse counting]"
   ]
  },
  {
   "cell_type": "markdown",
   "metadata": {},
   "source": [
    "# Concatenation"
   ]
  },
  {
   "cell_type": "code",
   "execution_count": 9,
   "metadata": {},
   "outputs": [
    {
     "name": "stdout",
     "output_type": "stream",
     "text": [
      "['shahin', 3.5, 'swarna', 4]\n",
      "['shahin', 3.5, 'swarna', 4, 'mahin']\n"
     ]
    }
   ],
   "source": [
    "my_list = ['shahin',3.5,\"swarna\",4]\n",
    "print(my_list)\n",
    "my_list = my_list+['mahin']\n",
    "print(my_list)"
   ]
  },
  {
   "cell_type": "markdown",
   "metadata": {},
   "source": [
    "# Repetation"
   ]
  },
  {
   "cell_type": "code",
   "execution_count": 5,
   "metadata": {},
   "outputs": [
    {
     "name": "stdout",
     "output_type": "stream",
     "text": [
      "['shahin', 3.5, 'swarna', 4, 'mahin', 'shahin', 3.5, 'swarna', 4, 'mahin']\n"
     ]
    }
   ],
   "source": [
    "print(my_list*2)"
   ]
  },
  {
   "cell_type": "markdown",
   "metadata": {},
   "source": [
    "# Slicing\n",
    "array  counting = [count from zero : from 1 (if positive number) for negetive reverse counting]"
   ]
  },
  {
   "cell_type": "code",
   "execution_count": 28,
   "metadata": {},
   "outputs": [
    {
     "name": "stdout",
     "output_type": "stream",
     "text": [
      "mahin\n",
      "mahin\n",
      "['shahin', 3.5, 'swarna', 4, 'mahin']\n",
      "[3.5, 'swarna', 4, 'mahin']\n"
     ]
    }
   ],
   "source": [
    "print(my_list[-1])\n",
    "print(my_list[4])\n",
    "print(my_list[:5])\n",
    "print(my_list[1:5])"
   ]
  },
  {
   "cell_type": "markdown",
   "metadata": {},
   "source": [
    "# Built In Function For Lists\n",
    "my_list.append('append') is just for one element<br>\n",
    "my_list.extend(['extend','init',3]) is for multiple element<br>\n",
    "my_list.insert(2,'insert') insert in specific position<br>\n",
    "my_list.pop() without parameter pop from end [it permenently take out that element from list]"
   ]
  },
  {
   "cell_type": "code",
   "execution_count": 43,
   "metadata": {},
   "outputs": [
    {
     "name": "stdout",
     "output_type": "stream",
     "text": [
      "['shahin', 3.5, 'swarna', 4]\n",
      "['shahin', 3.5, 'swarna', 4, 'append', 'extend', 'init', 7]\n",
      "['shahin', 3.5, 'insert', 'swarna', 4, 'append', 'extend', 'init', 7]\n",
      "shahin\n",
      "[3.5, 'insert', 'swarna', 4, 'append', 'extend', 'init', 7]\n"
     ]
    }
   ],
   "source": [
    "my_list = ['shahin',3.5,\"swarna\",4]\n",
    "print(my_list)\n",
    "my_list.append('append')\n",
    "my_list.extend(['extend','init',7])\n",
    "print(my_list)\n",
    "my_list.insert(2,'insert')\n",
    "print(my_list)\n",
    "print(my_list.pop(0))\n",
    "print(my_list)"
   ]
  }
 ],
 "metadata": {
  "kernelspec": {
   "display_name": "Python 3",
   "language": "python",
   "name": "python3"
  },
  "language_info": {
   "codemirror_mode": {
    "name": "ipython",
    "version": 3
   },
   "file_extension": ".py",
   "mimetype": "text/x-python",
   "name": "python",
   "nbconvert_exporter": "python",
   "pygments_lexer": "ipython3",
   "version": "3.6.5"
  }
 },
 "nbformat": 4,
 "nbformat_minor": 2
}

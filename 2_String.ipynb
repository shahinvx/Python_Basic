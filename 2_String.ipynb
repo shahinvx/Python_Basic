{
 "cells": [
  {
   "cell_type": "markdown",
   "metadata": {},
   "source": [
    "# String"
   ]
  },
  {
   "cell_type": "code",
   "execution_count": 5,
   "metadata": {},
   "outputs": [
    {
     "name": "stdout",
     "output_type": "stream",
     "text": [
      "PythonTutorial\n"
     ]
    }
   ],
   "source": [
    "str1 = 'Python'\n",
    "str2 = \"Tutorial\"\n",
    "print(str1+str2)"
   ]
  },
  {
   "cell_type": "markdown",
   "metadata": {},
   "source": [
    "# Concatenation"
   ]
  },
  {
   "cell_type": "code",
   "execution_count": 3,
   "metadata": {},
   "outputs": [
    {
     "name": "stdout",
     "output_type": "stream",
     "text": [
      "TutorialPython\n"
     ]
    }
   ],
   "source": [
    "print(str2+str1)"
   ]
  },
  {
   "cell_type": "markdown",
   "metadata": {},
   "source": [
    "# Repetition"
   ]
  },
  {
   "cell_type": "code",
   "execution_count": 11,
   "metadata": {},
   "outputs": [
    {
     "name": "stdout",
     "output_type": "stream",
     "text": [
      " Python Python\n"
     ]
    }
   ],
   "source": [
    "print(str1*2)"
   ]
  },
  {
   "cell_type": "markdown",
   "metadata": {},
   "source": [
    "# Slicing"
   ]
  },
  {
   "cell_type": "markdown",
   "metadata": {},
   "source": [
    "From front index start with 0,1,2,3,4<br>\n",
    "From back  index start with -1,-2,-3,-4"
   ]
  },
  {
   "cell_type": "code",
   "execution_count": 25,
   "metadata": {},
   "outputs": [
    {
     "name": "stdout",
     "output_type": "stream",
     "text": [
      "Tutorial\n",
      "orial\n",
      "Tut\n",
      "u\n",
      "i\n",
      "tor\n"
     ]
    }
   ],
   "source": [
    "print(str2)\n",
    "print(str2[3:8]) # after number 3 to number 8 ; 1 -> 8 count\n",
    "print(str2[:3]) # start to 3rd index\n",
    "print(str2[1])  # in here its start from 0 \n",
    "print(str2[-3]) # counting from back and start as last = num 1 index\n",
    "print(str2[2:-3]) # in here its start from 0 from last"
   ]
  },
  {
   "cell_type": "markdown",
   "metadata": {},
   "source": [
    "# INdexing"
   ]
  },
  {
   "cell_type": "code",
   "execution_count": null,
   "metadata": {},
   "outputs": [],
   "source": []
  },
  {
   "cell_type": "markdown",
   "metadata": {},
   "source": [
    "# Type Specific Method"
   ]
  },
  {
   "cell_type": "code",
   "execution_count": 37,
   "metadata": {},
   "outputs": [
    {
     "name": "stdout",
     "output_type": "stream",
     "text": [
      "Length of string  6\n",
      "1\n",
      "4\n",
      "str.upper() PYTHON\n",
      "max(str1) y\n",
      "min(str1) P\n",
      "str.isalpha() True\n",
      "str.lower() python\n"
     ]
    }
   ],
   "source": [
    "print(\"Length of string \",len(str1))\n",
    "print(str1.count('P',0,5))\n",
    "print(str1.find('on',0,6))\n",
    "print(\"str.upper()\",str1.upper())\n",
    "print(\"max(str1)\",max(str1))\n",
    "print(\"min(str1)\",min(str1))\n",
    "print(\"str.isalpha()\",str1.isalpha())\n",
    "print(\"str.lower()\",str1.lower())"
   ]
  }
 ],
 "metadata": {
  "kernelspec": {
   "display_name": "Python 3",
   "language": "python",
   "name": "python3"
  },
  "language_info": {
   "codemirror_mode": {
    "name": "ipython",
    "version": 3
   },
   "file_extension": ".py",
   "mimetype": "text/x-python",
   "name": "python",
   "nbconvert_exporter": "python",
   "pygments_lexer": "ipython3",
   "version": "3.6.5"
  }
 },
 "nbformat": 4,
 "nbformat_minor": 2
}

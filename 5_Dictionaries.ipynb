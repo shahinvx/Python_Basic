{
 "cells": [
  {
   "cell_type": "markdown",
   "metadata": {},
   "source": [
    "# Dictionaries\n",
    "It store data/value with flag or key. <br>\n",
    "Dictionary is initialize with my_dict = {} it can be empty. if we want add value with own.<br>\n",
    "my_dict = {1:'shahin' , 2:'swarna' , 3:'tanvir', 4:'pial'}<br>\n",
    "my_dict = {'key':'jhon', 1:[2,3,4]} key/flag can be string/character/number.<br>\n",
    "my_dict = dict([(1,'apple'),(2,'ball')]) from sequence having each item as a pair<br>\n",
    "() -> Tuples<br>\n",
    "{} -> Dictionaries<br>\n",
    "[] -> Lists<br>"
   ]
  },
  {
   "cell_type": "markdown",
   "metadata": {},
   "source": [
    "# Concatenation"
   ]
  },
  {
   "cell_type": "code",
   "execution_count": 27,
   "metadata": {},
   "outputs": [
    {
     "name": "stdout",
     "output_type": "stream",
     "text": [
      "{2: 'swarna', 1: 'shahin', 3: 'pial'}\n",
      "{2: 'swarna', 1: 'shahin', 3: 'pilu'}\n"
     ]
    }
   ],
   "source": [
    "my_dict = {2:'swarna', 1:'shahin', 3:'pial'}\n",
    "print(my_dict)\n",
    "my_dict.update({3:'pilu'})\n",
    "print(my_dict)"
   ]
  },
  {
   "cell_type": "markdown",
   "metadata": {},
   "source": [
    "# Repeatation"
   ]
  },
  {
   "cell_type": "code",
   "execution_count": null,
   "metadata": {},
   "outputs": [],
   "source": [
    "print(my_dict*2) # Repeatation is not possible in this way"
   ]
  },
  {
   "cell_type": "markdown",
   "metadata": {},
   "source": [
    "# Slicing"
   ]
  },
  {
   "cell_type": "code",
   "execution_count": null,
   "metadata": {},
   "outputs": [],
   "source": [
    "print(my_dict[2])\n",
    "print(my_dict[-1]) # it shows error"
   ]
  },
  {
   "cell_type": "markdown",
   "metadata": {},
   "source": [
    "# Built In Function of Dictionary"
   ]
  },
  {
   "cell_type": "code",
   "execution_count": 25,
   "metadata": {},
   "outputs": [
    {
     "name": "stdout",
     "output_type": "stream",
     "text": [
      "3\n",
      "{2: 'swarna', 1: 'shahin', 3: 'pial'}\n",
      "{}\n",
      "dict_values(['swarna', 'shahin', 'pial'])\n",
      "dict_keys([2, 1, 3])\n",
      "[1, 2, 3]\n",
      "dict_items([(2, 'swarna'), (1, 'shahin'), (3, 'pial')])\n",
      "shahin\n",
      "None\n",
      "jahid\n",
      "{2: 'swarna', 1: 'shahin', 3: 'pial'}\n",
      "{2: 'swarna', 1: 'shahin', 3: 'pial'}\n",
      "{2: 'swarna', 1: 'shahin', 3: 'pial'}\n"
     ]
    }
   ],
   "source": [
    "my_dict = {2:'swarna', 1:'shahin', 3:'pial'}\n",
    "print(len(my_dict))\n",
    "my_dict2 = my_dict.copy() # copy total dictionary element in other dictiontary\n",
    "my_dict.clear()           # delete all element from dictionary\n",
    "print(my_dict2)\n",
    "print(my_dict)\n",
    "print(my_dict2.values()) # values of Dictionary\n",
    "print(my_dict2.keys())   # keyes of Dictionary\n",
    "print(sorted(my_dict2))  \n",
    "print(my_dict2.items())  # show the total item\n",
    "print(my_dict2.get(1))\n",
    "print(my_dict2.update({4:'jahid'}))\n",
    "print(my_dict2.pop(4))  # remove the key and value\n",
    "print(my_dict2)\n",
    "print(my_dict2)\n",
    "print(my_dict2)"
   ]
  }
 ],
 "metadata": {
  "kernelspec": {
   "display_name": "Python 3",
   "language": "python",
   "name": "python3"
  },
  "language_info": {
   "codemirror_mode": {
    "name": "ipython",
    "version": 3
   },
   "file_extension": ".py",
   "mimetype": "text/x-python",
   "name": "python",
   "nbconvert_exporter": "python",
   "pygments_lexer": "ipython3",
   "version": "3.6.5"
  }
 },
 "nbformat": 4,
 "nbformat_minor": 2
}

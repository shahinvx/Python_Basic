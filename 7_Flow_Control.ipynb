{
 "cells": [
  {
   "cell_type": "markdown",
   "metadata": {},
   "source": [
    "# Flow control\n",
    "if elif else<<br>\n",
    "for<br>\n",
    "while<br>"
   ]
  },
  {
   "cell_type": "code",
   "execution_count": 10,
   "metadata": {},
   "outputs": [
    {
     "name": "stdout",
     "output_type": "stream",
     "text": [
      "Vagshes\n"
     ]
    }
   ],
   "source": [
    "num = int(input('Please give an integer : '))\n",
    "\n",
    "if(num//2==2):\n",
    "    print('Vagshes')\n",
    "elif(num%2==0):\n",
    "    print('Even')\n",
    "else:\n",
    "    print('odd')"
   ]
  },
  {
   "cell_type": "markdown",
   "metadata": {},
   "source": [
    "# While loop"
   ]
  },
  {
   "cell_type": "code",
   "execution_count": 21,
   "metadata": {},
   "outputs": [
    {
     "name": "stdout",
     "output_type": "stream",
     "text": [
      "Dhur beda , positive number dee !!!\n"
     ]
    }
   ],
   "source": [
    "num = int(input())\n",
    "sum = 0\n",
    "if(num<0):\n",
    "    print('Dhur beda , positive number dee !!!')\n",
    "else:\n",
    "    while(num>0):\n",
    "        sum = sum + num\n",
    "        num-=1\n",
    "    print(sum)"
   ]
  },
  {
   "cell_type": "markdown",
   "metadata": {},
   "source": [
    "# For loop\n",
    "range(start , end , increment/decrement)"
   ]
  },
  {
   "cell_type": "code",
   "execution_count": 40,
   "metadata": {},
   "outputs": [
    {
     "name": "stdout",
     "output_type": "stream",
     "text": [
      "10  bottle of beer on the wall 10  bottle of beer.\n",
      "Take one down and pass it around, 9  bottle of beer on the wall.\n",
      "9  bottle of beer on the wall 9  bottle of beer.\n",
      "Take one down and pass it around, 8  bottle of beer on the wall.\n",
      "8  bottle of beer on the wall 8  bottle of beer.\n",
      "Take one down and pass it around, 7  bottle of beer on the wall.\n",
      "7  bottle of beer on the wall 7  bottle of beer.\n",
      "Take one down and pass it around, 6  bottle of beer on the wall.\n",
      "6  bottle of beer on the wall 6  bottle of beer.\n",
      "Take one down and pass it around, 5  bottle of beer on the wall.\n",
      "5  bottle of beer on the wall 5  bottle of beer.\n",
      "Take one down and pass it around, 4  bottle of beer on the wall.\n",
      "4  bottle of beer on the wall 4  bottle of beer.\n",
      "Take one down and pass it around, 3  bottle of beer on the wall.\n",
      "3  bottle of beer on the wall 3  bottle of beer.\n",
      "Take one down and pass it around, 2  bottle of beer on the wall.\n",
      "2  bottle of beer on the wall 2  bottle of beer.\n",
      "Take one down and pass it around, 1  bottle of beer on the wall.\n",
      "1  bottle of beer on the wall, 1  bottle of beer.\n",
      "Take one down and pass it around, no more bottles of beer on the wall. \n",
      " No more bottles of beer on the wall, no more bottles of beer. \n",
      "Go to the store and buy some more 10  bottles of beer on the wall.\n"
     ]
    }
   ],
   "source": [
    "num = int(input())\n",
    "cpy = num\n",
    "for i in range(num,0,-1):\n",
    "    if(i==1):\n",
    "        print(i,\" bottle of beer on the wall,\",i,' bottle of beer.')\n",
    "        print(\"Take one down and pass it around, no more bottles of beer on the wall.\",\"\\n\",\n",
    "            \"No more bottles of beer on the wall, no more bottles of beer.\",\"\\n\"\n",
    "             \"Go to the store and buy some more\",cpy,\" bottles of beer on the wall.\")\n",
    "    else:\n",
    "        print(i,' bottle of beer on the wall',i,' bottle of beer.')\n",
    "        print('Take one down and pass it around,',i-1,' bottle of beer on the wall.')"
   ]
  },
  {
   "cell_type": "code",
   "execution_count": null,
   "metadata": {},
   "outputs": [],
   "source": []
  }
 ],
 "metadata": {
  "kernelspec": {
   "display_name": "Python 3",
   "language": "python",
   "name": "python3"
  },
  "language_info": {
   "codemirror_mode": {
    "name": "ipython",
    "version": 3
   },
   "file_extension": ".py",
   "mimetype": "text/x-python",
   "name": "python",
   "nbconvert_exporter": "python",
   "pygments_lexer": "ipython3",
   "version": "3.6.5"
  }
 },
 "nbformat": 4,
 "nbformat_minor": 2
}

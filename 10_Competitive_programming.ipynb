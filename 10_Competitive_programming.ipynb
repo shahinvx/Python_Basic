{
 "cells": [
  {
   "cell_type": "markdown",
   "metadata": {},
   "source": [
    "# List as Array an Filter"
   ]
  },
  {
   "cell_type": "code",
   "execution_count": 3,
   "metadata": {},
   "outputs": [
    {
     "name": "stdout",
     "output_type": "stream",
     "text": [
      "[2, 2, 3, 6, 10, 34, 100]\n"
     ]
    }
   ],
   "source": [
    "my_list = list(map(int,input().split()))\n",
    "my_list = sorted(my_list)\n",
    "print(my_list)"
   ]
  },
  {
   "cell_type": "code",
   "execution_count": 1,
   "metadata": {},
   "outputs": [
    {
     "name": "stdout",
     "output_type": "stream",
     "text": [
      "[1, 2, 2, 6, 7, 44]\n"
     ]
    }
   ],
   "source": [
    "my_arr = sorted(map(int,input().split()))\n",
    "print(my_arr)"
   ]
  },
  {
   "cell_type": "markdown",
   "metadata": {},
   "source": [
    "# Declare List and take Input in loop"
   ]
  },
  {
   "cell_type": "code",
   "execution_count": 8,
   "metadata": {},
   "outputs": [
    {
     "name": "stdout",
     "output_type": "stream",
     "text": [
      "Enter the range : 5\n",
      "5\n",
      "4\n",
      "3\n",
      "2\n",
      "1\n",
      "[1, 2, 3, 4, 5] \n",
      "average :  3.0\n"
     ]
    }
   ],
   "source": [
    "my_list = []                   # declare list\n",
    "num = int(input(\"Enter the range : \"))\n",
    "for i in range(0,num,1):\n",
    "    my_list.append(int(input()))  # take input one by one\n",
    "my_list = sorted(my_list)\n",
    "print(my_list, end=' ')           # output value after space \n",
    "\n",
    "average = sum(my_list)/len(my_list)\n",
    "print(\"\\naverage : \", average)"
   ]
  },
  {
   "cell_type": "markdown",
   "metadata": {},
   "source": [
    "# Filter \n",
    "filter(my_function , my_list) it need to be cast with list"
   ]
  },
  {
   "cell_type": "code",
   "execution_count": 2,
   "metadata": {},
   "outputs": [
    {
     "name": "stdout",
     "output_type": "stream",
     "text": [
      "[6, 2, 8, 4, 6]\n"
     ]
    }
   ],
   "source": [
    "my_list = list(map(int,input().split()))\n",
    "\n",
    "def is_even(n):\n",
    "    return n%2==0\n",
    "\n",
    "even_list = list(filter(is_even, my_list)) # filter(function , my_list)\n",
    "\n",
    "print(even_list)"
   ]
  },
  {
   "cell_type": "markdown",
   "metadata": {},
   "source": [
    "# Lambda\n",
    "lambda n:n%2==0 here n is value passing variable : here is the function"
   ]
  },
  {
   "cell_type": "code",
   "execution_count": 4,
   "metadata": {},
   "outputs": [
    {
     "name": "stdout",
     "output_type": "stream",
     "text": [
      "[6, 2, 8, 4, 6]\n"
     ]
    }
   ],
   "source": [
    "my_list2 = list(map(int,input().split()))\n",
    "\n",
    "even_list = list(filter(lambda n:n%2==0 , my_list)) # filter(function , my_list)\n",
    "\n",
    "print(even_list)"
   ]
  },
  {
   "cell_type": "markdown",
   "metadata": {},
   "source": [
    "# Map\n",
    "Map is using for mathematical operation with all values of lists"
   ]
  },
  {
   "cell_type": "code",
   "execution_count": 5,
   "metadata": {},
   "outputs": [
    {
     "name": "stdout",
     "output_type": "stream",
     "text": [
      "[7, 5, 4, 9, 8, 10]\n"
     ]
    }
   ],
   "source": [
    "my_list = list(map(int,input().split()))\n",
    "\n",
    "my_map = list(map(lambda x:x+2, my_list))  # adding 2 with every value of List\n",
    "\n",
    "print(my_map)"
   ]
  },
  {
   "cell_type": "markdown",
   "metadata": {},
   "source": [
    "# Reduce\n",
    "reduce is a function of functools library<br>\n",
    "we can add all number or sub all number <br>\n",
    "can find mean<br>"
   ]
  },
  {
   "cell_type": "code",
   "execution_count": 7,
   "metadata": {},
   "outputs": [
    {
     "name": "stdout",
     "output_type": "stream",
     "text": [
      "15\n",
      "3.0\n"
     ]
    }
   ],
   "source": [
    "import functools as fc\n",
    "my_list = list(map(int,input().split()))\n",
    "\n",
    "sum = fc.reduce(lambda x,y:x+y, my_list)   # sum of all number\n",
    "\n",
    "print(sum)\n",
    "\n",
    "sum = fc.reduce(lambda x,y:x+y, my_list)/len(my_list)  # average\n",
    "\n",
    "print(sum)"
   ]
  },
  {
   "cell_type": "code",
   "execution_count": null,
   "metadata": {},
   "outputs": [],
   "source": []
  }
 ],
 "metadata": {
  "kernelspec": {
   "display_name": "Python 3",
   "language": "python",
   "name": "python3"
  },
  "language_info": {
   "codemirror_mode": {
    "name": "ipython",
    "version": 3
   },
   "file_extension": ".py",
   "mimetype": "text/x-python",
   "name": "python",
   "nbconvert_exporter": "python",
   "pygments_lexer": "ipython3",
   "version": "3.6.5"
  }
 },
 "nbformat": 4,
 "nbformat_minor": 2
}
